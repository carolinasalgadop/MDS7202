{
  "nbformat": 4,
  "nbformat_minor": 0,
  "metadata": {
    "colab": {
      "provenance": [],
      "include_colab_link": true
    },
    "kernelspec": {
      "name": "python3",
      "display_name": "Python 3"
    },
    "language_info": {
      "name": "python"
    }
  },
  "cells": [
    {
      "cell_type": "markdown",
      "metadata": {
        "id": "view-in-github",
        "colab_type": "text"
      },
      "source": [
        "<a href=\"https://colab.research.google.com/github/carolinasalgadop/MDS7202/blob/main/Laboratorio_1.ipynb\" target=\"_parent\"><img src=\"https://colab.research.google.com/assets/colab-badge.svg\" alt=\"Open In Colab\"/></a>"
      ]
    },
    {
      "cell_type": "markdown",
      "source": [
        "<h1><center>Laboratorio 1: Git 👾</center></h1>\n",
        "\n",
        "<center><strong>MDS7202: Laboratorio de Programación Científica para Ciencia de Datos - Otoño 2023</strong></center>"
      ],
      "metadata": {
        "id": "J4_IcuuKZj9Y"
      }
    },
    {
      "cell_type": "markdown",
      "source": [
        "### Cuerpo Docente:\n",
        "\n",
        "- Profesores: Pablo Badilla, Ignacio Meza D.\n",
        "- Auxiliar: Sebastián Tinoco\n",
        "- Ayudante: Diego Cortez"
      ],
      "metadata": {
        "id": "AEXIACc7aADv"
      }
    },
    {
      "cell_type": "markdown",
      "source": [
        "### Equipo: SUPER IMPORTANTE - notebooks sin nombre no serán revisados\n",
        "\n",
        "- Nombre de alumno 1: Carolina Salgado\n",
        "- Nombre de alumno 2: Sebastián Urbina"
      ],
      "metadata": {
        "id": "0HgMMyoCaG8X"
      }
    },
    {
      "cell_type": "markdown",
      "source": [
        "### **Link de repositorio de GitHub:** \n",
        "https://github.com/SebasUrbina/MDS7202 \n",
        "\n",
        "https://github.com/carolinasalgadop/MDS7202\n"
      ],
      "metadata": {
        "id": "fz77X6glaK6y"
      }
    },
    {
      "cell_type": "markdown",
      "source": [
        "## Reglas:\n",
        "\n",
        "- Fecha de entrega: 6 días desde la publicación, 3 días de atraso con 1 punto de descuento c/u. Pueden utilizar días bonus sin descuento.\n",
        "- **Grupos de 2 personas**.\n",
        "- **Ausentes** deberán realizar la actividad solos. \n",
        "- Cualquier duda fuera del horario de clases al foro. Mensajes al equipo docente serán respondidos por este medio.\n",
        "- <u>Prohibidas las copias</u>. Cualquier intento de copia será debidamente penalizado con el reglamento de la escuela.\n",
        "- Pueden usar cualquer material del curso que estimen conveniente.\n",
        "- Asistencia obligatoria a instrucciones del lab (viernes 16.15). Luego, pueden quedarse trabajando en las salas o irse."
      ],
      "metadata": {
        "id": "rRwqaxIZaNx3"
      }
    },
    {
      "cell_type": "markdown",
      "source": [
        "## Objetivos del lab:\n",
        "\n",
        "\n",
        "- Conocer los elementos básicos que conformar `Git`\n",
        "- Clonar repositorios\n",
        "- Identificar ramas de un repositorio\n",
        "- Reconocer y solucionar problemas entre ramas\n",
        "- Subir cambios a un repositorio"
      ],
      "metadata": {
        "id": "bmToL27JaSrf"
      }
    },
    {
      "cell_type": "markdown",
      "source": [
        "## Parte 1: Conocimiento Teórico (2 pts)"
      ],
      "metadata": {
        "id": "bvnPCvrVbJLK"
      }
    },
    {
      "cell_type": "markdown",
      "source": [
        "Responda las siguientes preguntas (0.2 pts c/u):\n",
        "\n",
        "1. ¿Qué es `Git` y cómo se relaciona con el control de versiones?\n",
        "\n",
        "Git es un sistema de control de versiones (VCS) que registra los cambios realizados en un archivo o conjunto de estos a lo largo del tiempo. \n",
        "\n",
        "2. Nombre y explique 3 diferencias entre `Git` y `Github`.\n",
        "\n",
        "    1. `Git` es un software de control de versiones distribuido, en cambio, `Github` es un servicio en línea.\n",
        "    2. `Git` Es un software de de linea de comandos mientras que `Github` posee una interfaz web bastante amigable e incluso una aplicación de escritorio.\n",
        "    3. `Git` crea un repositorio local para trackear los cambios locales(se puede usar offline) mientras que `Github` es un espacio(en línea) para subir una copia de los repositorios de Git.\n",
        "\n",
        "3. ¿Qué es un `hash` y cómo se representa en un `commit`? De un ejemplo.\n",
        "\n",
        "    En `Git` un hash es una cadena única de carácteres de largo 40 que identifica de manera única a un `commit`. Se genera a partir del contenido del `commit` y se usa el algoritmo de SHA1. Un hash de ejemplo podría ser: `c8b1a62d7299552b0654f930d695b33109214111`\n",
        "\n",
        "4. ¿Que elementos componen a la estructura de datos de `Git`?\n",
        "\n",
        "5. ¿Que comandos de `Git` sirven para crear un repositorio y hacer seguimiento a cambios en los archivos?"
      ],
      "metadata": {
        "id": "JHl-24XnbNLF"
      }
    },
    {
      "cell_type": "markdown",
      "source": [
        "1. Git es un sistema de control de versiones (VCS) que registra los cambios realizados en un archivo o conjunto de estos a lo largo del tiempo. \n",
        "\n",
        "2.    1. `Git` es un software de control de versiones distribuido, en cambio, `Github` es un servicio en línea.\n",
        "    2. `Git` Es un software de de linea de comandos mientras que `Github` posee una interfaz web bastante amigable e incluso una aplicación de escritorio.\n",
        "    3. `Git` crea un repositorio local para trackear los cambios locales(se puede usar offline) mientras que `Github` es un espacio(en línea) para subir una copia de los repositorios de Git.\n",
        "\n",
        "3. En `Git` un hash es una cadena única de carácteres de largo 40 que identifica de manera única a un `commit`. Se genera a partir del contenido del `commit` y se usa el algoritmo de SHA1. Un hash de ejemplo podría ser: `c8b1a62d7299552b0654f930d695b33109214111`\n",
        "\n",
        "\n",
        "\n",
        "4. Los elementos que componen la estructura de datos en Git son:\n",
        "\n",
        "* Blob: Es una de las unidades básicas de almacenamiento en Git, ya que representan el contenido de los archivos. Y cuando un archivo es modificado, un nuevo blob se genera para el archivo completo con todos los cambios realizados sobre este.\n",
        "* Árbol: Representan los directorios o carpetas, los cuales pueden contener blobs y más árboles (subdirectorios).\n",
        "* Commit: Representan un estado en el historial de cambios del repositorio. Contienen metadatos como el autor, la fecha y hora de la confirmación, y un mensaje que describe los cambios realizados.\n",
        "* Hash: Un hash es un valor único que se utiliza para identificar un objeto. Puede apuntar a un blob, un árbol o un commit. Tiene 40 caracteres y cada elemento posee un hash SHA-1 único.\n",
        "\n",
        "Por otra parte, En Git, se habla de los \"tres estados\" que puede tener un archivo en el repositorio. Estos estados son:\n",
        "\n",
        "* Working Directory (Directorio de trabajo): Es el estado en el que se encuentran los archivos en la computadora de manera local en un momento determinado. Aquí es donde se hacen cambios y modificaciones en tus archivos.\n",
        "\n",
        "* Staging Area (Área de preparación): Es el estado intermedio en el que se encuentran los archivos antes de ser confirmados en el repositorio. Los archivos que se han modificado y que deseas agregar al próximo commit deben ser \"preparados\" y colocados en el área de preparación (también conocida como índice) utilizando el comando git add.\n",
        "\n",
        "* Repository (Repositorio): Es el estado final en el que se encuentran los archivos después de haber sido confirmados en el repositorio mediante el comando git commit. Una vez que se confirman los cambios, se crean nuevas versiones de los archivos que se almacenan en el repositorio.\n",
        "\n",
        "5. \n",
        "\n",
        "* Para crear un repositorio desde cero, se usa:\n",
        "`git init <nombre del repositorio>`\n",
        "\n",
        "* Para clonar un repositorio remoto (es decir, copiar un repositorio al almacenamiento local desde algún servidor como GitLab o GitHub):\n",
        "`git clone /ruta/al/repo.git`\n",
        "\n",
        "* Para mostrar el estado actual del repositorio, incluyendo los archivos que han sido modificados, agregados o eliminados.\n",
        "`git status`\n",
        "\n",
        "* Para mostrar el historial completo de confirmaciones en el repositorio, incluyendo el autor, la fecha y el mensaje de confirmación.\n",
        "`git log`\n",
        "\n",
        "* Para visualizar las diferencias entre conjuntos de archivos en el repositorio.\n",
        "`git diff`"
      ],
      "metadata": {
        "id": "2tXCSkf0caG8"
      }
    },
    {
      "cell_type": "markdown",
      "source": [
        "Responda si las siguientes afirmaciones son Verdaderas (V) o Falsas (F). Justifique en **cualquiera** de los casos (0.2 pts c/u):\n",
        "\n",
        "\n",
        "6. `Git` siempre resuelve automáticamente los problemas de lineas al hacer merge entre diferentes ramas. S\n",
        "7. Ejecutar `git pull` sobre un repositorio es equivalente a ejecutar `git clone`. S\n",
        "8. Cada miembro del equipo trabaja en la misma copia del código fuente usando `Git`.\n",
        "9. En `Git` es posible deshacer cambios y volver a versiones anteriores del código.\n",
        "10. El comando `git commit` se utiliza para enviar cambios al repositorio remoto."
      ],
      "metadata": {
        "id": "MACccbP4gU43"
      }
    },
    {
      "cell_type": "markdown",
      "source": [
        "Respuestas:\n",
        "\n",
        "6. Falso. Git no resuelve de manera automática los problemas de un merge. Sólo notifica que hay inconsistencias y deben resolverse manualmente. \n",
        "\n",
        "7. Falso. `git pull` y `git clone` son comandos diferentes. `git clone` se utiliza para clonar un repositorio remoto en una carpeta local y se utiliza sólo una vez para obtener una copia completa del repositorio mientras que `git pull` se utiliza para actualizar un repositorio local con los cambios más recientes del repositorio remoto y se utiliza de forma regular(a medida que se hacen cambios en el repositorio remoto).\n",
        "\n",
        "8. Verdadero. Es posible que cada miembro del equipo trabaje colaborativamente desde un archivo si es que este está en un repositorio remoto. Para ello, se recomienda el uso de branches o ramas para evitar posibles conflictos en la actualización del archivo.\n",
        "9. Verdadero. El comando `git checkout <hash>` sirve para volver a un commit anterior declarando su hash. También se puede ocupar `git reset` para deshacer los cambios en el stagings area y el directorio de trabajo.\n",
        "10. Falso. El comando `git commit` se utiliza para confirmar los cambios en el repositorio local por medio de la creación de un commit. Mientras que `git push` es el comando que envía aquel commit al repositorio remoto."
      ],
      "metadata": {
        "id": "DFnmCToOgeM3"
      }
    },
    {
      "cell_type": "markdown",
      "source": [
        "## Parte 2: Creando una presentación personal (2 pts)"
      ],
      "metadata": {
        "id": "i7Em9JkbbRLo"
      }
    },
    {
      "cell_type": "markdown",
      "source": [
        "Para empezar a \"*soltar las manos*\" con `Git`, se les encomienda crear un repositorio con una presentación personal. El repositorio debe contener un breve resumen de quienes son ustedes, sus gustos, experiencias, y cualquier otro detalle interesante que ustedes consideren relevante. \n",
        "\n",
        "Para realizar esto, deben seguir los siguientes pasos:\n",
        "\n",
        "1. Contar con una cuenta de github (1 por persona)\n",
        "2. Crear un repositorio con su nombre de usuario\n",
        "3. Crear y modificar un archivo `readme.md` con la información que ustedes deseen compartir.\n",
        "\n",
        "A modo de ejemplo, pueden guiarse por esta *suculenta* [presentación](https://github.com/pbadillatorrealba/pbadillatorrealba).\n",
        "\n",
        "*Hint: Una buena opción es usar templates de presentación personal que encuentren en Google, como los que ofrece este [sitio](https://durgeshsamariya.github.io/awesome-github-profile-readme-templates/#/)*.\n",
        "\n",
        "**Entregable:**\n",
        "\n",
        "Enlace al repositorio con la presentación personal. \n",
        "\n",
        "IMPORTANTE: DEBEN ADJUNTAR UN ENLACE POR PERSONA"
      ],
      "metadata": {
        "id": "XWIHfyrlbYOJ"
      }
    },
    {
      "cell_type": "markdown",
      "source": [
        "<code>Link Presentacion 1: https://github.com/carolinasalgadop/carolinasalgadop</code>\n",
        "\n",
        "<code>Link Presentacion 2: https://github.com/SebasUrbina/sebasurbina</code>"
      ],
      "metadata": {
        "id": "IIkWyl9tf0Sg"
      }
    },
    {
      "cell_type": "markdown",
      "source": [
        "## Parte 3: Trabajando sobre un repositorio externo (2 pts)"
      ],
      "metadata": {
        "id": "CAzXOwvDY-IG"
      }
    },
    {
      "cell_type": "markdown",
      "source": [
        "Tras muchos dolores de cabeza, un grupo de entusiastas académicos decidieron aprender sobre `Git` y así trabajar colaborativamente de forma más ordenada y eficiente. Después de una infinidad de intentos y aprender de sus errores \"*a la mala*\", los académicos lograron levantar un [repositorio](https://github.com/MDS7202/lab1) en `Github`. Usando el repositorio de los académicos, responda las siguientes preguntas (incluya también los comandos en `Git` ocupados):"
      ],
      "metadata": {
        "id": "84Yjuxxvdfzh"
      }
    },
    {
      "cell_type": "markdown",
      "source": [
        "1. Clone el repositorio a su ambiente local. (0.25 pts)"
      ],
      "metadata": {
        "id": "BFRnAw0rfguR"
      }
    },
    {
      "cell_type": "markdown",
      "source": [
        "\n",
        "![git clone](https://i.imgur.com/CNCRTsz.png)"
      ],
      "metadata": {
        "id": "KXro32yBeilN"
      }
    },
    {
      "cell_type": "markdown",
      "source": [
        "2. Inspeccione brevemente el repositorio: ¿Cual es el objetivo del proyecto? Explique brevemente la estructura del proyecto, asi como también de cada componente que lo conforma. (0.25 pts)"
      ],
      "metadata": {
        "id": "q2qmiDyjt2M_"
      }
    },
    {
      "cell_type": "markdown",
      "source": [
        "Según lo revisado en los archivos del repositorio, el objetivo del proyecto parece ser un programa que recibe una entrada de texto de un animal y entrega una salida de texto que representa el sonido correspondiente.\n",
        "\n",
        "![git run-python](https://i.imgur.com/V60Vx0p.png)"
      ],
      "metadata": {
        "id": "aBHpR8VTftkT"
      }
    },
    {
      "cell_type": "markdown",
      "source": [
        "3. Identifique los últimos cambios al repositorio, reconociendo las principales ramas de trabajo. ¿Son informativos los `commit` realizados? (0.25 pts)\n",
        "*Hint: Se recomienda usar los argumentos `all`, `graph` y `decorate`*"
      ],
      "metadata": {
        "id": "XFwqcpLZfylf"
      }
    },
    {
      "cell_type": "markdown",
      "source": [
        "\n",
        "![git log](https://i.imgur.com/NJWrDRP.png)\n",
        "\n",
        "Viendo el historial de commits del repositorio, se puede notar que hay commits más informativos que otros. Por ejemplo, \"separar el proyecto en modulos\" podría ser entendible pues se sabe directamente lo que se hizo, sin embargo, \"se agrega funcion\" y \"fix ifs\" dejan ambiguedad sobre a qué función se hace referencia y qué hace la función, como también no se sabe el significado de ifs.\n"
      ],
      "metadata": {
        "id": "cmWfXBkOhog0"
      }
    },
    {
      "cell_type": "markdown",
      "source": [
        "4. Uno de los académicos se da cuenta que la rama principal de trabajo no se ejecuta correctamente para todos los argumentos. Señale el error en el código e identifique a la persona que lo cometió usando `git blame` (0.25 pts) C\n",
        "\n",
        "*Hint: Le puede ser útil esta [documentación](https://www.atlassian.com/es/git/tutorials/inspecting-a-repository/git-blame).*"
      ],
      "metadata": {
        "id": "Vqbj9HdXrUnN"
      }
    },
    {
      "cell_type": "markdown",
      "source": [
        "El problema está en el archivo animales.py, que es donde está escrita la función que entrega el sonido del animal en base al nombre de este. El problema ocurre cuando la función recibe como entrada los nombres `gato` o `perro`, ya que si bien es capaz de retornar el sonido correcto, también se imprime un error que indica que el animal no fue reconocido, lo cual no tiene sentido.\n",
        "\n",
        "Revisando el código se puede notar que el control de flujo de los condicionales está declarado en una secuencia de comandos `if` seguidos por un `else`, donde las primeras dos declaraciones `if` sirven para identificar a los gatos y perros, mientras que el tercer `if` se utiliza para reconocer al zorro. Esto provoca que la sentencia `else` solo sea funcional para el `if` inmediato que le antecede, es decir, el que se usa para identificar al zorro. O sea, si la entrada es `gato` o `perro`, se activarán los `if` que hacen referencia a esos animales, pero también se activará el `else` por no ser activada la condición de que el animal es zorro.\n",
        "\n",
        "Esto se puede solucionar fácilmente cambiando la segunda y tercera sentencia `if` por `elif`, es decir, aquellas que sirven para identificar al perro y al zorro. Ya que, de esta manera, el `else` será funcional para todas las condiciones anteriores y no solo la del zorro.\n",
        "\n",
        "Con respecto a quien ejecutó esta acción, fue el usuario llamado `mezosky`.\n",
        "\n",
        "![git blame](https://i.imgur.com/6Bv1KtR.png)\n",
        "\n",
        "\n"
      ],
      "metadata": {
        "id": "5ajhV2Iar3tV"
      }
    },
    {
      "cell_type": "markdown",
      "source": [
        "5. Busque los siguientes `commit`:\n",
        "\n",
        "- `c8b1a62d7299552b0654f930d695b33109214111`\n",
        "\n",
        "- `362fe21ee44f53ee944cee4ba484600308f83d78`\n",
        "\n",
        "- `25543a3baf77292baf849726784ca005473acab1`\n",
        "\n",
        "¿Qué diferencias existen entre cada uno? (0.25 pts)"
      ],
      "metadata": {
        "id": "m8J3uE7MhqTA"
      }
    },
    {
      "cell_type": "markdown",
      "source": [
        "<code>Escriba sus respuestas acá:</code>\n",
        "\n",
        "- `c8b1a62d7299552b0654f930d695b33109214111`\n",
        "\n",
        "    Este commit fue realizado por seba, lo que hace es modificar el main.py agregando una nueva función al código.\n",
        "\n",
        "- `362fe21ee44f53ee944cee4ba484600308f83d78`\n",
        "\n",
        "    Este commit realizado por mezosky muestra que se crea un nuevo archivo `animales.py` que contiene la función que creó anteriormente seba y luego la importa simplemente en el main.py a través de `from animales import animales`. En otras pabras, modulariza el código.\n",
        "\n",
        "- `25543a3baf77292baf849726784ca005473acab1`\n",
        "\n",
        "    Este commit fue realizado por Pablo y lo que hace es modificar el `main.py` corrigiendo los ifs (previo a que mezosky lo modularizara)\n",
        "\n",
        "Usando `git diff hash1 hash2` podemos ver las diferencias entre estos commits.\n",
        "\n",
        "`git diff c8b1a62d7299552b0654f930d695b33109214111 362fe21ee44f53ee944cee4ba484600308f83d78D`\n",
        "![git diff 1-2](https://i.imgur.com/YvZkTUL.png)\n",
        "\n",
        "Se puede notar en color verde el trozo de código que se agrega en un nuevo archivo llamado `animales.py` que corresponde al que estaba previamente en `main.py`(en color rojo). Luego, se importa la función en `main.py` a traves de `from animales import animales`.\n",
        "\n",
        "![git diff 1-3](https://i.imgur.com/SfilsEw.png)\n",
        "\n",
        "`git diff c8b1a62d7299552b0654f930d695b33109214111 25543a3baf77292baf849726784ca005473acab1`\n",
        "La diferencia entre el primer y tercer commit es simplemente una modificación del archivo `main.py` donde se cambia el segundo y tercer `if` por `elif`\n",
        "\n",
        "![git diff 1-3](https://i.imgur.com/yTebJSO.png)\n",
        "\n",
        "`git diff 362fe21ee44f53ee944cee4ba484600308f83d78D 25543a3baf77292baf849726784ca005473acab1`\n",
        "\n",
        "La diferencia entre el segundo y tercer commit se da en que el `main.py` tiene la función `animales` dentro del código y el archivo `animales.py` no existe. Esto ocurre porque el tercer commit se realizó previo a que se modularizara el código en el commit 2. Por eso la diferencia en estricto rigor es el archivo `animales.py`"
      ],
      "metadata": {
        "id": "sNHnZsgIitGh"
      }
    },
    {
      "cell_type": "markdown",
      "source": [
        "6. Realice una `merge` de la rama `fix-ifs` con la rama `main` y describa lo que ocurre. ¿Qué parte del código podría estar ocasionando esto? (0.25 pts)"
      ],
      "metadata": {
        "id": "WQIPbfNCgpxC"
      }
    },
    {
      "cell_type": "markdown",
      "source": [
        "<code>Escriba sus respuestas acá:</code>\n",
        "\n",
        "![Error](https://i.imgur.com/iPQoVnB.png)\n",
        "\n",
        "Lo que podría estar ocasionando esto es que la rama `main` está modularizada, es decir, contiene dos archivos, donde `animales.py` no está presente en la rama de `fix-ifs` porque ese archivo se creó posterior a que se creara esa rama. Por lo tanto hay inconsistencia."
      ],
      "metadata": {
        "id": "ypH_6lL5ioZz"
      }
    },
    {
      "cell_type": "markdown",
      "source": [
        "7. Cree una rama nueva y proponga una solución al problema anterior, adjuntando el código corregido y señalando las líneas modificadas. (0.5 pts)"
      ],
      "metadata": {
        "id": "GYfODCjeivkU"
      }
    },
    {
      "cell_type": "markdown",
      "source": [
        "<code>Escriba sus respuestas acá:</code>\n",
        "\n",
        "La solución consiste en crear una nueva rama llamada `solve-merge` y modificar el archivo `animales.py`, corrigiendo los `ifs`. Luego de esto, volvemos a la rama main y hacemos el merge.\n",
        "\n",
        "Los códigos usados fueron:\n",
        "\n",
        "`git branch solve-merge` (creamos la nueva rama) \n",
        "\n",
        "`git checkout solve-merge` (nos movemos a la nueva rama)\n",
        "\n",
        "`nano animales.py` (abrimos el archivo y corregimos los ifs)\n",
        "\n",
        "Si vemos los cambios, fueron estos: \n",
        "\n",
        "![](https://i.imgur.com/FBKRu80.png)\n",
        "\n",
        "`git checkout main` (volvemos a la rama main)\n",
        "\n",
        "`git merge solve-merge` (finalmente hacemos el merge con la rama corregida)\n",
        "\n",
        "\n",
        "![Merge corregido](https://i.imgur.com/zI2orFW.png)"
      ],
      "metadata": {
        "id": "8heBxDU9iziT"
      }
    },
    {
      "cell_type": "markdown",
      "source": [
        "## Fin"
      ],
      "metadata": {
        "id": "Av8ebB9jkALO"
      }
    },
    {
      "cell_type": "markdown",
      "source": [
        "Eso ha sido todo por ahora!! Esperamos que este laboratorio les haya gustado y servido para trabajar con `Git`. Recuerden los dias de plazo que tienen disponibles y que ante cualquier duda no duden en contactar al equipo docente. \n",
        "\n",
        "Nos vemos!! \n",
        "\n",
        "<img src=https://media.tenor.com/OYLdav9k9LkAAAAd/kitty-cat.gif height=300>\n"
      ],
      "metadata": {
        "id": "aQqZT9fSkBK8"
      }
    }
  ]
}